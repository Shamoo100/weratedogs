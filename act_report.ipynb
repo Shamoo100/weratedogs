{
 "cells": [
  {
   "attachments": {},
   "cell_type": "markdown",
   "metadata": {},
   "source": [
    "# WeRateDogs Twitter Analysis\n",
    "\n",
    "[WeRateDogs](https://twitter.com/dog_rates?s=20) is a Twitter account that posts and rates pictures of dogs. These ratings often are not serious and have numerators that are greater than the denominators. In my analysis, I examined WeRateDogs's archive through August 1, 2017. Most of the necessary Twitter data was provided by Udacity. In addition, Udacity ran the images on WeRateDogs's account through a neural network to generate three predictions for each image. After wrangling the data for original content with images, I wanted to answer the following questions:\n",
    "\n",
    "- What is WeRateDogs's posting trend by month?\n",
    "- What is the monthly trend of interactions with WeRateDogs's posts?\n",
    "- What are the most popular dog breeds based on number of posts, interactions by Twitter users, and ratings?\n",
    "- Is there any correlation between WeRateDogs's ratings and the interactions by Twitter users?\n",
    "\n",
    "## Question 1: What is WeRateDogs's posting trend by month?\n",
    "\n",
    "The number of ratings on WeRateDogs has had a general downward trend by month since the account was first started, going from a peak of almost 300 tweets in one month down to around 50 in the latest months. There was a sharp decline only a few months after the account was created. However, this does not necessarily mean that the number of overall posts by the account has decreased, as my analysis only focused on original content with images. It is possible that the account has focused on other areas of content, such as retweets, videos, and interactions with followers. \n",
    "\n",
    "![monthly_tweet_count](visualizations/monthly_tweet_count.png)\n",
    "\n",
    "## Question 2: What is the monthly trend of interactions with WeRateDogs's posts?\n",
    "\n",
    "There has been a steady upward trend in the average retweets and favorites since the account was first started, going from almost no interaction to around 35,000 retweets and favorites per post in the latest months. This trend is encouraging given that the account's original purpose was to post images with ratings.\n",
    "\n",
    "![monthly_tweet_activity](visualizations/monthly_tweet_activity.png)\n",
    "\n",
    "## Question 3: What are the most popular dog breeds based on number of posts, interactions by Twitter users, and ratings?\n",
    "\n",
    "For each view, I decided to look at the top 10. Here are the most popular dog breeds by the number of rating-related posts.\n",
    "\n",
    "![top_10_by_count](visualizations/top_10_by_count.png)\n",
    "\n",
    "It is clear that [golden retrievers](https://www.google.com/search?q=golden+retriever&sxsrf=ALeKk039ntnRVfbXnAYLZODnwwz_Plu29g:1600662539438&source=lnms&tbm=isch&sa=X&ved=2ahUKEwjG4cXQtPnrAhWFtp4KHVyrCPQQ_AUoAXoECB4QAw&biw=1440&bih=685) are, by far, the most commonly posted breed by WeRateDogs. After golden retrievers, [labrador retrievers](https://www.google.com/search?q=labrador+retriever&tbm=isch&ved=2ahUKEwi56KPRtPnrAhU1lZ4KHfldD9kQ2-cCegQIABAA&oq=labrador+retriever&gs_lcp=CgNpbWcQAzIHCAAQsQMQQzIFCAAQsQMyAggAMgQIABBDMgUIABCxAzICCAAyAggAMgQIABBDMgIIADICCAA6BAgjECdQyOkBWMeBAmCAgwJoAHAAeACAAU-IAcYHkgECMTiYAQCgAQGqAQtnd3Mtd2l6LWltZ8ABAQ&sclient=img&ei=DCxoX7myO7Wq-gT5u73IDQ&bih=685&biw=1440), [pembrokes](https://www.google.com/search?q=pembroke+dog&tbm=isch&ved=2ahUKEwiSqITptPnrAhWQhZ4KHX6mAjwQ2-cCegQIABAA&oq=pembroke+dog&gs_lcp=CgNpbWcQAzIECCMQJzICCAAyBggAEAUQHjIGCAAQBRAeMgYIABAIEB4yBggAEAgQHjIGCAAQCBAeMgYIABAIEB4yBggAEAgQHjIGCAAQCBAeOgUIABCxAzoHCAAQsQMQQzoECAAQQ1CeDVilD2CyEmgAcAB4AIABRIgB4QGSAQE0mAEAoAEBqgELZ3dzLXdpei1pbWfAAQE&sclient=img&ei=PixoX5KRMJCL-gT-zIrgAw&bih=685&biw=1440), and [chihuahuas](https://www.google.com/search?q=chihuahua&tbm=isch&ved=2ahUKEwj0qt_qtPnrAhV2mJ4KHecSC1kQ2-cCegQIABAA&oq=chihuahua&gs_lcp=CgNpbWcQAzIHCAAQsQMQQzIHCAAQsQMQQzIHCAAQsQMQQzIHCAAQsQMQQzIECAAQQzIFCAAQsQMyBQgAELEDMgUIABCxAzIECAAQQzIECAAQQzoECCMQJ1DPSFi7VGDMVWgAcAB4AIABiQGIAboEkgEDNi4ymAEAoAEBqgELZ3dzLXdpei1pbWfAAQE&sclient=img&ei=QixoX_SBF_aw-gTnpazIBQ&bih=685&biw=1440) also have larger counts compared to the rest of the top 10.\n",
    "\n",
    "For the most popular dog breeds by average tweet activity (defined as the sum of retweets and favorites), I decided only to include dogs that have had at least 10 posts, since only a few posts is not enough evidence to assess popularity.\n",
    "\n",
    "![top_10_by_activity](visualizations/top_10_by_activity.png)\n",
    "\n",
    "This visualization shows that [French bulldogs](https://www.google.com/search?q=french+bulldog&tbm=isch&ved=2ahUKEwjlzb7wtPnrAhWBnJ4KHSIIBdoQ2-cCegQIABAA&oq=french&gs_lcp=CgNpbWcQARgAMgQIIxAnMgQIIxAnMgcIABCxAxBDMgcIABCxAxBDMgcIABCxAxBDMgUIABCxAzIECAAQQzIECAAQQzIFCAAQsQMyBQgAELEDOgIIAFCUow9Yw6gPYMuvD2gAcAB4AIABQogB5gKSAQE2mAEAoAEBqgELZ3dzLXdpei1pbWfAAQE&sclient=img&ei=TixoX-XuGYG5-gSikJTQDQ&bih=685&biw=1440) have a large margin compared to the rest of the top 10 when it comes to the average tweet activity per post.\n",
    "\n",
    "Finally, here are the top 10 by average rating. Again, I narrowed down the dataset only to dog that have had at least 10 posts.\n",
    "\n",
    "![top_10_by_rating](visualizations/top_10_by_rating.png)\n",
    "\n",
    "There is not much difference between the top 10 when looking at average rating. This is to be expected given that the ratings are pretty arbitrary. However, this made me wonder if there was any correlation between ratings and interactions from Twitter users. I was skeptical, but I wanted to find out.\n",
    "\n",
    "## Question 4: Is there any correlation between WeRateDogs's ratings and the interactions by Twitter users?\n",
    "\n",
    "I first looked at this question by breed, seeing if there was any correlation between the average ratings for each breed and the average tweet activity for each breed. Surprisingly, there appears to be a positive correlation. I found that the Pearson correlation coefficient is about 0.54, so it is moderately strong. This means that breeds with higher ratings tended to also have more tweet activity.\n",
    "\n",
    "![scatter_by_breed](visualizations/scatter_by_breed.png)\n",
    "\n",
    "Finally, I wanted to look at the correlation on a per-post basis. Again, this shows a positive correlation; the Pearson correlation coefficient is also moderately strong at 0.38. Posts with higher ratings tended to also have more tweet activity. However, this does not imply causation; one simple explanation is that ratings started out lower when the account was first created. As the account gained more following, WeRateDogs may have started posting ratings over 10 to cater to Twitter users. Or the opposite could be true, that WeRateDogs may have started getting more popular once the ratings became more outlandish.\n",
    "\n",
    "![scatter_by_tweet](visualizations/scatter_by_tweet.png)"
   ]
  }
 ],
 "metadata": {
  "kernelspec": {
   "display_name": "Python 3",
   "language": "python",
   "name": "python3"
  },
  "language_info": {
   "codemirror_mode": {
    "name": "ipython",
    "version": 3
   },
   "file_extension": ".py",
   "mimetype": "text/x-python",
   "name": "python",
   "nbconvert_exporter": "python",
   "pygments_lexer": "ipython3",
   "version": "3.7.7"
  }
 },
 "nbformat": 4,
 "nbformat_minor": 4
}
